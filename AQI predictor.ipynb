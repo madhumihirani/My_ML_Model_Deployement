{
 "cells": [
  {
   "cell_type": "code",
   "execution_count": 2,
   "id": "9b8a2e62",
   "metadata": {},
   "outputs": [
    {
     "name": "stdout",
     "output_type": "stream",
     "text": [
      "Requirement already satisfied: numpy in c:\\users\\hp\\appdata\\local\\programs\\python\\python310\\lib\\site-packages (1.23.4)\n",
      "Requirement already satisfied: pandas in c:\\users\\hp\\appdata\\local\\programs\\python\\python310\\lib\\site-packages (1.5.0)\n",
      "Requirement already satisfied: pytz>=2020.1 in c:\\users\\hp\\appdata\\local\\programs\\python\\python310\\lib\\site-packages (from pandas) (2022.4)\n",
      "Requirement already satisfied: python-dateutil>=2.8.1 in c:\\users\\hp\\appdata\\local\\programs\\python\\python310\\lib\\site-packages (from pandas) (2.8.2)\n",
      "Requirement already satisfied: numpy>=1.21.0 in c:\\users\\hp\\appdata\\local\\programs\\python\\python310\\lib\\site-packages (from pandas) (1.23.4)\n",
      "Requirement already satisfied: six>=1.5 in c:\\users\\hp\\appdata\\local\\programs\\python\\python310\\lib\\site-packages (from python-dateutil>=2.8.1->pandas) (1.16.0)\n"
     ]
    }
   ],
   "source": [
    "!pip install numpy\n",
    "!pip install pandas"
   ]
  },
  {
   "cell_type": "code",
   "execution_count": 3,
   "id": "5bddc4c9",
   "metadata": {},
   "outputs": [
    {
     "name": "stdout",
     "output_type": "stream",
     "text": [
      "Requirement already satisfied: datetime in c:\\users\\hp\\appdata\\local\\programs\\python\\python310\\lib\\site-packages (4.7)\n",
      "Requirement already satisfied: zope.interface in c:\\users\\hp\\appdata\\local\\programs\\python\\python310\\lib\\site-packages (from datetime) (5.5.0)\n",
      "Requirement already satisfied: pytz in c:\\users\\hp\\appdata\\local\\programs\\python\\python310\\lib\\site-packages (from datetime) (2022.4)\n",
      "Requirement already satisfied: setuptools in c:\\users\\hp\\appdata\\local\\programs\\python\\python310\\lib\\site-packages (from zope.interface->datetime) (63.2.0)\n",
      "Requirement already satisfied: matplotlib in c:\\users\\hp\\appdata\\local\\programs\\python\\python310\\lib\\site-packages (3.6.1)\n",
      "Requirement already satisfied: packaging>=20.0 in c:\\users\\hp\\appdata\\local\\programs\\python\\python310\\lib\\site-packages (from matplotlib) (21.3)\n",
      "Requirement already satisfied: cycler>=0.10 in c:\\users\\hp\\appdata\\local\\programs\\python\\python310\\lib\\site-packages (from matplotlib) (0.11.0)\n",
      "Requirement already satisfied: contourpy>=1.0.1 in c:\\users\\hp\\appdata\\local\\programs\\python\\python310\\lib\\site-packages (from matplotlib) (1.0.5)\n",
      "Requirement already satisfied: pyparsing>=2.2.1 in c:\\users\\hp\\appdata\\local\\programs\\python\\python310\\lib\\site-packages (from matplotlib) (3.0.9)\n",
      "Requirement already satisfied: python-dateutil>=2.7 in c:\\users\\hp\\appdata\\local\\programs\\python\\python310\\lib\\site-packages (from matplotlib) (2.8.2)\n",
      "Requirement already satisfied: numpy>=1.19 in c:\\users\\hp\\appdata\\local\\programs\\python\\python310\\lib\\site-packages (from matplotlib) (1.23.4)\n",
      "Requirement already satisfied: pillow>=6.2.0 in c:\\users\\hp\\appdata\\local\\programs\\python\\python310\\lib\\site-packages (from matplotlib) (9.2.0)\n",
      "Requirement already satisfied: fonttools>=4.22.0 in c:\\users\\hp\\appdata\\local\\programs\\python\\python310\\lib\\site-packages (from matplotlib) (4.37.4)\n",
      "Requirement already satisfied: kiwisolver>=1.0.1 in c:\\users\\hp\\appdata\\local\\programs\\python\\python310\\lib\\site-packages (from matplotlib) (1.4.4)\n",
      "Requirement already satisfied: six>=1.5 in c:\\users\\hp\\appdata\\local\\programs\\python\\python310\\lib\\site-packages (from python-dateutil>=2.7->matplotlib) (1.16.0)\n"
     ]
    },
    {
     "name": "stderr",
     "output_type": "stream",
     "text": [
      "ERROR: Could not find a version that satisfies the requirement matplotlib.pyplot (from versions: none)\n",
      "ERROR: No matching distribution found for matplotlib.pyplot\n"
     ]
    },
    {
     "name": "stdout",
     "output_type": "stream",
     "text": [
      "Requirement already satisfied: seaborn in c:\\users\\hp\\appdata\\local\\programs\\python\\python310\\lib\\site-packages (0.12.0)\n",
      "Requirement already satisfied: matplotlib>=3.1 in c:\\users\\hp\\appdata\\local\\programs\\python\\python310\\lib\\site-packages (from seaborn) (3.6.1)\n",
      "Requirement already satisfied: numpy>=1.17 in c:\\users\\hp\\appdata\\local\\programs\\python\\python310\\lib\\site-packages (from seaborn) (1.23.4)\n",
      "Requirement already satisfied: pandas>=0.25 in c:\\users\\hp\\appdata\\local\\programs\\python\\python310\\lib\\site-packages (from seaborn) (1.5.0)\n",
      "Requirement already satisfied: cycler>=0.10 in c:\\users\\hp\\appdata\\local\\programs\\python\\python310\\lib\\site-packages (from matplotlib>=3.1->seaborn) (0.11.0)\n",
      "Requirement already satisfied: packaging>=20.0 in c:\\users\\hp\\appdata\\local\\programs\\python\\python310\\lib\\site-packages (from matplotlib>=3.1->seaborn) (21.3)\n",
      "Requirement already satisfied: kiwisolver>=1.0.1 in c:\\users\\hp\\appdata\\local\\programs\\python\\python310\\lib\\site-packages (from matplotlib>=3.1->seaborn) (1.4.4)\n",
      "Requirement already satisfied: fonttools>=4.22.0 in c:\\users\\hp\\appdata\\local\\programs\\python\\python310\\lib\\site-packages (from matplotlib>=3.1->seaborn) (4.37.4)\n",
      "Requirement already satisfied: pyparsing>=2.2.1 in c:\\users\\hp\\appdata\\local\\programs\\python\\python310\\lib\\site-packages (from matplotlib>=3.1->seaborn) (3.0.9)\n",
      "Requirement already satisfied: contourpy>=1.0.1 in c:\\users\\hp\\appdata\\local\\programs\\python\\python310\\lib\\site-packages (from matplotlib>=3.1->seaborn) (1.0.5)\n",
      "Requirement already satisfied: python-dateutil>=2.7 in c:\\users\\hp\\appdata\\local\\programs\\python\\python310\\lib\\site-packages (from matplotlib>=3.1->seaborn) (2.8.2)\n",
      "Requirement already satisfied: pillow>=6.2.0 in c:\\users\\hp\\appdata\\local\\programs\\python\\python310\\lib\\site-packages (from matplotlib>=3.1->seaborn) (9.2.0)\n",
      "Requirement already satisfied: pytz>=2020.1 in c:\\users\\hp\\appdata\\local\\programs\\python\\python310\\lib\\site-packages (from pandas>=0.25->seaborn) (2022.4)\n",
      "Requirement already satisfied: six>=1.5 in c:\\users\\hp\\appdata\\local\\programs\\python\\python310\\lib\\site-packages (from python-dateutil>=2.7->matplotlib>=3.1->seaborn) (1.16.0)\n"
     ]
    }
   ],
   "source": [
    "!pip install datetime\n",
    "!pip install  matplotlib\n",
    "!pip install matplotlib.pyplot\n",
    "!pip install seaborn"
   ]
  },
  {
   "cell_type": "code",
   "execution_count": 4,
   "id": "368390ca",
   "metadata": {},
   "outputs": [
    {
     "name": "stdout",
     "output_type": "stream",
     "text": [
      "Requirement already satisfied: sklearn in c:\\users\\hp\\appdata\\local\\programs\\python\\python310\\lib\\site-packages (0.0)\n",
      "Requirement already satisfied: scikit-learn in c:\\users\\hp\\appdata\\local\\programs\\python\\python310\\lib\\site-packages (from sklearn) (1.1.2)\n",
      "Requirement already satisfied: scipy>=1.3.2 in c:\\users\\hp\\appdata\\local\\programs\\python\\python310\\lib\\site-packages (from scikit-learn->sklearn) (1.9.2)\n",
      "Requirement already satisfied: threadpoolctl>=2.0.0 in c:\\users\\hp\\appdata\\local\\programs\\python\\python310\\lib\\site-packages (from scikit-learn->sklearn) (3.1.0)\n",
      "Requirement already satisfied: numpy>=1.17.3 in c:\\users\\hp\\appdata\\local\\programs\\python\\python310\\lib\\site-packages (from scikit-learn->sklearn) (1.23.4)\n",
      "Requirement already satisfied: joblib>=1.0.0 in c:\\users\\hp\\appdata\\local\\programs\\python\\python310\\lib\\site-packages (from scikit-learn->sklearn) (1.2.0)\n"
     ]
    }
   ],
   "source": [
    "!pip install sklearn"
   ]
  },
  {
   "cell_type": "markdown",
   "id": "585cd398",
   "metadata": {},
   "source": [
    "# 1. Importing Required Libraries"
   ]
  },
  {
   "cell_type": "code",
   "execution_count": 5,
   "id": "ba8bd149",
   "metadata": {},
   "outputs": [],
   "source": [
    "import pandas as pd\n",
    "import numpy as np\n",
    "import datetime\n",
    "import matplotlib\n",
    "import matplotlib.pyplot as plt\n",
    "import seaborn as sns\n",
    "import sklearn.model_selection\n",
    "from matplotlib import rcParams"
   ]
  },
  {
   "cell_type": "code",
   "execution_count": 6,
   "id": "f50d5aa7",
   "metadata": {},
   "outputs": [],
   "source": [
    "import warnings\n",
    "warnings.filterwarnings(\"ignore\")"
   ]
  },
  {
   "cell_type": "code",
   "execution_count": 7,
   "id": "6ccdfe15",
   "metadata": {},
   "outputs": [
    {
     "data": {
      "text/html": [
       "<div>\n",
       "<style scoped>\n",
       "    .dataframe tbody tr th:only-of-type {\n",
       "        vertical-align: middle;\n",
       "    }\n",
       "\n",
       "    .dataframe tbody tr th {\n",
       "        vertical-align: top;\n",
       "    }\n",
       "\n",
       "    .dataframe thead th {\n",
       "        text-align: right;\n",
       "    }\n",
       "</style>\n",
       "<table border=\"1\" class=\"dataframe\">\n",
       "  <thead>\n",
       "    <tr style=\"text-align: right;\">\n",
       "      <th></th>\n",
       "      <th>City</th>\n",
       "      <th>Date</th>\n",
       "      <th>PM</th>\n",
       "      <th>ND</th>\n",
       "      <th>CM</th>\n",
       "      <th>SD</th>\n",
       "      <th>AQI</th>\n",
       "      <th>AQI_Bucket</th>\n",
       "    </tr>\n",
       "  </thead>\n",
       "  <tbody>\n",
       "    <tr>\n",
       "      <th>0</th>\n",
       "      <td>Colombo</td>\n",
       "      <td>2015-01-01</td>\n",
       "      <td>NaN</td>\n",
       "      <td>18.22</td>\n",
       "      <td>0.92</td>\n",
       "      <td>27.64</td>\n",
       "      <td>NaN</td>\n",
       "      <td>NaN</td>\n",
       "    </tr>\n",
       "    <tr>\n",
       "      <th>1</th>\n",
       "      <td>Colombo</td>\n",
       "      <td>2015-01-02</td>\n",
       "      <td>NaN</td>\n",
       "      <td>15.69</td>\n",
       "      <td>0.97</td>\n",
       "      <td>24.55</td>\n",
       "      <td>NaN</td>\n",
       "      <td>NaN</td>\n",
       "    </tr>\n",
       "    <tr>\n",
       "      <th>2</th>\n",
       "      <td>Colombo</td>\n",
       "      <td>2015-01-03</td>\n",
       "      <td>NaN</td>\n",
       "      <td>19.30</td>\n",
       "      <td>17.40</td>\n",
       "      <td>29.07</td>\n",
       "      <td>NaN</td>\n",
       "      <td>NaN</td>\n",
       "    </tr>\n",
       "    <tr>\n",
       "      <th>3</th>\n",
       "      <td>Colombo</td>\n",
       "      <td>2015-01-04</td>\n",
       "      <td>NaN</td>\n",
       "      <td>18.48</td>\n",
       "      <td>1.70</td>\n",
       "      <td>18.59</td>\n",
       "      <td>NaN</td>\n",
       "      <td>NaN</td>\n",
       "    </tr>\n",
       "    <tr>\n",
       "      <th>4</th>\n",
       "      <td>Colombo</td>\n",
       "      <td>2015-01-05</td>\n",
       "      <td>NaN</td>\n",
       "      <td>21.42</td>\n",
       "      <td>22.10</td>\n",
       "      <td>39.33</td>\n",
       "      <td>NaN</td>\n",
       "      <td>NaN</td>\n",
       "    </tr>\n",
       "    <tr>\n",
       "      <th>...</th>\n",
       "      <td>...</td>\n",
       "      <td>...</td>\n",
       "      <td>...</td>\n",
       "      <td>...</td>\n",
       "      <td>...</td>\n",
       "      <td>...</td>\n",
       "      <td>...</td>\n",
       "      <td>...</td>\n",
       "    </tr>\n",
       "    <tr>\n",
       "      <th>29526</th>\n",
       "      <td>Colombo</td>\n",
       "      <td>2020-06-27</td>\n",
       "      <td>15.02</td>\n",
       "      <td>25.06</td>\n",
       "      <td>0.47</td>\n",
       "      <td>8.55</td>\n",
       "      <td>41.0</td>\n",
       "      <td>Good</td>\n",
       "    </tr>\n",
       "    <tr>\n",
       "      <th>29527</th>\n",
       "      <td>Colombo</td>\n",
       "      <td>2020-06-28</td>\n",
       "      <td>24.38</td>\n",
       "      <td>26.06</td>\n",
       "      <td>0.52</td>\n",
       "      <td>12.72</td>\n",
       "      <td>70.0</td>\n",
       "      <td>Satisfactory</td>\n",
       "    </tr>\n",
       "    <tr>\n",
       "      <th>29528</th>\n",
       "      <td>Colombo</td>\n",
       "      <td>2020-06-29</td>\n",
       "      <td>22.91</td>\n",
       "      <td>29.53</td>\n",
       "      <td>0.48</td>\n",
       "      <td>8.42</td>\n",
       "      <td>68.0</td>\n",
       "      <td>Satisfactory</td>\n",
       "    </tr>\n",
       "    <tr>\n",
       "      <th>29529</th>\n",
       "      <td>Colombo</td>\n",
       "      <td>2020-06-30</td>\n",
       "      <td>16.64</td>\n",
       "      <td>29.26</td>\n",
       "      <td>0.52</td>\n",
       "      <td>9.84</td>\n",
       "      <td>54.0</td>\n",
       "      <td>Satisfactory</td>\n",
       "    </tr>\n",
       "    <tr>\n",
       "      <th>29530</th>\n",
       "      <td>Colombo</td>\n",
       "      <td>2020-07-01</td>\n",
       "      <td>15.00</td>\n",
       "      <td>26.85</td>\n",
       "      <td>0.59</td>\n",
       "      <td>2.10</td>\n",
       "      <td>50.0</td>\n",
       "      <td>Good</td>\n",
       "    </tr>\n",
       "  </tbody>\n",
       "</table>\n",
       "<p>29531 rows × 8 columns</p>\n",
       "</div>"
      ],
      "text/plain": [
       "          City       Date     PM     ND     CM     SD   AQI    AQI_Bucket\n",
       "0      Colombo 2015-01-01    NaN  18.22   0.92  27.64   NaN           NaN\n",
       "1      Colombo 2015-01-02    NaN  15.69   0.97  24.55   NaN           NaN\n",
       "2      Colombo 2015-01-03    NaN  19.30  17.40  29.07   NaN           NaN\n",
       "3      Colombo 2015-01-04    NaN  18.48   1.70  18.59   NaN           NaN\n",
       "4      Colombo 2015-01-05    NaN  21.42  22.10  39.33   NaN           NaN\n",
       "...        ...        ...    ...    ...    ...    ...   ...           ...\n",
       "29526  Colombo 2020-06-27  15.02  25.06   0.47   8.55  41.0          Good\n",
       "29527  Colombo 2020-06-28  24.38  26.06   0.52  12.72  70.0  Satisfactory\n",
       "29528  Colombo 2020-06-29  22.91  29.53   0.48   8.42  68.0  Satisfactory\n",
       "29529  Colombo 2020-06-30  16.64  29.26   0.52   9.84  54.0  Satisfactory\n",
       "29530  Colombo 2020-07-01  15.00  26.85   0.59   2.10  50.0          Good\n",
       "\n",
       "[29531 rows x 8 columns]"
      ]
     },
     "execution_count": 7,
     "metadata": {},
     "output_type": "execute_result"
    }
   ],
   "source": [
    "df=pd.read_csv('Data/Air_Quality_Monitoring_Newdataset.csv',parse_dates = [\"Date\"])\n",
    "df"
   ]
  },
  {
   "cell_type": "markdown",
   "id": "ec47b819",
   "metadata": {},
   "source": [
    "# Features    \n",
    "-->Date   \n",
    "-->PM2.5 (Particulate Matter 2.5-micrometer)                       \n",
    "-->SO2 (Sulphur Dioxide)            \n",
    "-->NO2 (Nitric Dioxide)              \n",
    "-->CO (Carbon Monoxide)           \n",
    "-->AQI (Air Quality Index)          \n",
    "-->AQI_Bucket "
   ]
  },
  {
   "cell_type": "code",
   "execution_count": 8,
   "id": "3d766b7d",
   "metadata": {},
   "outputs": [
    {
     "data": {
      "text/html": [
       "<div>\n",
       "<style scoped>\n",
       "    .dataframe tbody tr th:only-of-type {\n",
       "        vertical-align: middle;\n",
       "    }\n",
       "\n",
       "    .dataframe tbody tr th {\n",
       "        vertical-align: top;\n",
       "    }\n",
       "\n",
       "    .dataframe thead th {\n",
       "        text-align: right;\n",
       "    }\n",
       "</style>\n",
       "<table border=\"1\" class=\"dataframe\">\n",
       "  <thead>\n",
       "    <tr style=\"text-align: right;\">\n",
       "      <th></th>\n",
       "      <th>City</th>\n",
       "      <th>Date</th>\n",
       "      <th>PM</th>\n",
       "      <th>ND</th>\n",
       "      <th>CM</th>\n",
       "      <th>SD</th>\n",
       "      <th>AQI</th>\n",
       "      <th>AQI_Bucket</th>\n",
       "    </tr>\n",
       "  </thead>\n",
       "  <tbody>\n",
       "    <tr>\n",
       "      <th>0</th>\n",
       "      <td>Colombo</td>\n",
       "      <td>2015-01-01</td>\n",
       "      <td>NaN</td>\n",
       "      <td>18.22</td>\n",
       "      <td>0.92</td>\n",
       "      <td>27.64</td>\n",
       "      <td>NaN</td>\n",
       "      <td>NaN</td>\n",
       "    </tr>\n",
       "    <tr>\n",
       "      <th>1</th>\n",
       "      <td>Colombo</td>\n",
       "      <td>2015-01-02</td>\n",
       "      <td>NaN</td>\n",
       "      <td>15.69</td>\n",
       "      <td>0.97</td>\n",
       "      <td>24.55</td>\n",
       "      <td>NaN</td>\n",
       "      <td>NaN</td>\n",
       "    </tr>\n",
       "    <tr>\n",
       "      <th>2</th>\n",
       "      <td>Colombo</td>\n",
       "      <td>2015-01-03</td>\n",
       "      <td>NaN</td>\n",
       "      <td>19.30</td>\n",
       "      <td>17.40</td>\n",
       "      <td>29.07</td>\n",
       "      <td>NaN</td>\n",
       "      <td>NaN</td>\n",
       "    </tr>\n",
       "    <tr>\n",
       "      <th>3</th>\n",
       "      <td>Colombo</td>\n",
       "      <td>2015-01-04</td>\n",
       "      <td>NaN</td>\n",
       "      <td>18.48</td>\n",
       "      <td>1.70</td>\n",
       "      <td>18.59</td>\n",
       "      <td>NaN</td>\n",
       "      <td>NaN</td>\n",
       "    </tr>\n",
       "    <tr>\n",
       "      <th>4</th>\n",
       "      <td>Colombo</td>\n",
       "      <td>2015-01-05</td>\n",
       "      <td>NaN</td>\n",
       "      <td>21.42</td>\n",
       "      <td>22.10</td>\n",
       "      <td>39.33</td>\n",
       "      <td>NaN</td>\n",
       "      <td>NaN</td>\n",
       "    </tr>\n",
       "    <tr>\n",
       "      <th>5</th>\n",
       "      <td>Colombo</td>\n",
       "      <td>2015-01-06</td>\n",
       "      <td>NaN</td>\n",
       "      <td>38.48</td>\n",
       "      <td>45.41</td>\n",
       "      <td>45.76</td>\n",
       "      <td>NaN</td>\n",
       "      <td>NaN</td>\n",
       "    </tr>\n",
       "    <tr>\n",
       "      <th>6</th>\n",
       "      <td>Colombo</td>\n",
       "      <td>2015-01-07</td>\n",
       "      <td>NaN</td>\n",
       "      <td>40.62</td>\n",
       "      <td>112.16</td>\n",
       "      <td>32.28</td>\n",
       "      <td>NaN</td>\n",
       "      <td>NaN</td>\n",
       "    </tr>\n",
       "    <tr>\n",
       "      <th>7</th>\n",
       "      <td>Colombo</td>\n",
       "      <td>2015-01-08</td>\n",
       "      <td>NaN</td>\n",
       "      <td>36.74</td>\n",
       "      <td>80.87</td>\n",
       "      <td>38.54</td>\n",
       "      <td>NaN</td>\n",
       "      <td>NaN</td>\n",
       "    </tr>\n",
       "    <tr>\n",
       "      <th>8</th>\n",
       "      <td>Colombo</td>\n",
       "      <td>2015-01-09</td>\n",
       "      <td>NaN</td>\n",
       "      <td>31.00</td>\n",
       "      <td>29.16</td>\n",
       "      <td>58.68</td>\n",
       "      <td>NaN</td>\n",
       "      <td>NaN</td>\n",
       "    </tr>\n",
       "    <tr>\n",
       "      <th>9</th>\n",
       "      <td>Colombo</td>\n",
       "      <td>2015-01-10</td>\n",
       "      <td>NaN</td>\n",
       "      <td>7.04</td>\n",
       "      <td>NaN</td>\n",
       "      <td>8.29</td>\n",
       "      <td>NaN</td>\n",
       "      <td>NaN</td>\n",
       "    </tr>\n",
       "  </tbody>\n",
       "</table>\n",
       "</div>"
      ],
      "text/plain": [
       "      City       Date  PM     ND      CM     SD  AQI AQI_Bucket\n",
       "0  Colombo 2015-01-01 NaN  18.22    0.92  27.64  NaN        NaN\n",
       "1  Colombo 2015-01-02 NaN  15.69    0.97  24.55  NaN        NaN\n",
       "2  Colombo 2015-01-03 NaN  19.30   17.40  29.07  NaN        NaN\n",
       "3  Colombo 2015-01-04 NaN  18.48    1.70  18.59  NaN        NaN\n",
       "4  Colombo 2015-01-05 NaN  21.42   22.10  39.33  NaN        NaN\n",
       "5  Colombo 2015-01-06 NaN  38.48   45.41  45.76  NaN        NaN\n",
       "6  Colombo 2015-01-07 NaN  40.62  112.16  32.28  NaN        NaN\n",
       "7  Colombo 2015-01-08 NaN  36.74   80.87  38.54  NaN        NaN\n",
       "8  Colombo 2015-01-09 NaN  31.00   29.16  58.68  NaN        NaN\n",
       "9  Colombo 2015-01-10 NaN   7.04     NaN   8.29  NaN        NaN"
      ]
     },
     "execution_count": 8,
     "metadata": {},
     "output_type": "execute_result"
    }
   ],
   "source": [
    "df.head(10)"
   ]
  },
  {
   "cell_type": "code",
   "execution_count": 9,
   "id": "8fe2f2d8",
   "metadata": {},
   "outputs": [
    {
     "name": "stdout",
     "output_type": "stream",
     "text": [
      "df.shape :  (29531, 8)\n"
     ]
    }
   ],
   "source": [
    "print(\"df.shape : \", df.shape)"
   ]
  },
  {
   "cell_type": "markdown",
   "id": "10644045",
   "metadata": {},
   "source": [
    "<mark>**29531 enteries with 8 features, 4 target value**</mark>"
   ]
  },
  {
   "cell_type": "code",
   "execution_count": 10,
   "id": "86d7b9f3",
   "metadata": {},
   "outputs": [
    {
     "name": "stdout",
     "output_type": "stream",
     "text": [
      "Index(['City', 'Date', 'PM', 'ND', 'CM', 'SD', 'AQI', 'AQI_Bucket'], dtype='object')\n"
     ]
    }
   ],
   "source": [
    "print(df.columns)"
   ]
  },
  {
   "cell_type": "code",
   "execution_count": 11,
   "id": "3e847074",
   "metadata": {},
   "outputs": [
    {
     "name": "stdout",
     "output_type": "stream",
     "text": [
      "<class 'pandas.core.frame.DataFrame'>\n",
      "RangeIndex: 29531 entries, 0 to 29530\n",
      "Data columns (total 8 columns):\n",
      " #   Column      Non-Null Count  Dtype         \n",
      "---  ------      --------------  -----         \n",
      " 0   City        29531 non-null  object        \n",
      " 1   Date        29531 non-null  datetime64[ns]\n",
      " 2   PM          24933 non-null  float64       \n",
      " 3   ND          25946 non-null  float64       \n",
      " 4   CM          27472 non-null  float64       \n",
      " 5   SD          25677 non-null  float64       \n",
      " 6   AQI         24850 non-null  float64       \n",
      " 7   AQI_Bucket  24850 non-null  object        \n",
      "dtypes: datetime64[ns](1), float64(5), object(2)\n",
      "memory usage: 1.8+ MB\n"
     ]
    }
   ],
   "source": [
    "df.info()"
   ]
  },
  {
   "cell_type": "code",
   "execution_count": 12,
   "id": "8a5717ef",
   "metadata": {},
   "outputs": [
    {
     "name": "stdout",
     "output_type": "stream",
     "text": [
      "                 PM            ND            CM            SD           AQI\n",
      "count  24933.000000  25946.000000  27472.000000  25677.000000  24850.000000\n",
      "mean      67.450578     28.560659      2.248598     14.531977    166.463581\n",
      "std       64.661449     24.474746      6.962884     18.133775    140.696585\n",
      "min        0.040000      0.010000      0.000000      0.010000     13.000000\n",
      "25%       28.820000     11.750000      0.510000      5.670000     81.000000\n",
      "50%       48.570000     21.690000      0.890000      9.160000    118.000000\n",
      "75%       80.590000     37.620000      1.450000     15.220000    208.000000\n",
      "max      949.990000    362.210000    175.810000    193.860000   2049.000000\n"
     ]
    }
   ],
   "source": [
    "print(df.describe())"
   ]
  },
  {
   "cell_type": "code",
   "execution_count": 13,
   "id": "b68a3902",
   "metadata": {},
   "outputs": [
    {
     "name": "stdout",
     "output_type": "stream",
     "text": [
      "0        False\n",
      "1        False\n",
      "2        False\n",
      "3        False\n",
      "4        False\n",
      "         ...  \n",
      "29526    False\n",
      "29527    False\n",
      "29528    False\n",
      "29529    False\n",
      "29530    False\n",
      "Length: 29531, dtype: bool\n"
     ]
    }
   ],
   "source": [
    "print(df.duplicated())"
   ]
  },
  {
   "cell_type": "code",
   "execution_count": 14,
   "id": "e20cbde0",
   "metadata": {},
   "outputs": [
    {
     "data": {
      "text/plain": [
       "754"
      ]
     },
     "execution_count": 14,
     "metadata": {},
     "output_type": "execute_result"
    }
   ],
   "source": [
    "sum(df.duplicated())"
   ]
  },
  {
   "cell_type": "code",
   "execution_count": 15,
   "id": "2743e5ab",
   "metadata": {},
   "outputs": [
    {
     "data": {
      "text/plain": [
       "<AxesSubplot: >"
      ]
     },
     "execution_count": 15,
     "metadata": {},
     "output_type": "execute_result"
    },
    {
     "data": {
      "image/png": "[encoded data removed]",
      "text/plain": [
       "<Figure size 640x480 with 1 Axes>"
      ]
     },
     "metadata": {},
     "output_type": "display_data"
    }
   ],
   "source": [
    "sns.heatmap(df.isnull(),yticklabels=False,cbar=False,cmap='viridis')"
   ]
  },
  {
   "cell_type": "code",
   "execution_count": 16,
   "id": "8b8ad8c0",
   "metadata": {},
   "outputs": [
    {
     "name": "stdout",
     "output_type": "stream",
     "text": [
      "City             0\n",
      "Date             0\n",
      "PM            4598\n",
      "ND            3585\n",
      "CM            2059\n",
      "SD            3854\n",
      "AQI           4681\n",
      "AQI_Bucket    4681\n",
      "dtype: int64\n"
     ]
    }
   ],
   "source": [
    "print(df.isnull().sum())"
   ]
  },
  {
   "cell_type": "code",
   "execution_count": 17,
   "id": "7171b025",
   "metadata": {},
   "outputs": [
    {
     "data": {
      "text/plain": [
       "AQI           15.851139\n",
       "AQI_Bucket    15.851139\n",
       "PM            15.570079\n",
       "SD            13.050692\n",
       "ND            12.139785\n",
       "CM             6.972334\n",
       "City           0.000000\n",
       "Date           0.000000\n",
       "dtype: float64"
      ]
     },
     "execution_count": 17,
     "metadata": {},
     "output_type": "execute_result"
    }
   ],
   "source": [
    "(df.isnull().sum()/df.shape[0]*100).sort_values(ascending=False)"
   ]
  },
  {
   "cell_type": "code",
   "execution_count": 18,
   "id": "cb23a8ef",
   "metadata": {},
   "outputs": [
    {
     "data": {
      "text/html": [
       "<div>\n",
       "<style scoped>\n",
       "    .dataframe tbody tr th:only-of-type {\n",
       "        vertical-align: middle;\n",
       "    }\n",
       "\n",
       "    .dataframe tbody tr th {\n",
       "        vertical-align: top;\n",
       "    }\n",
       "\n",
       "    .dataframe thead th {\n",
       "        text-align: right;\n",
       "    }\n",
       "</style>\n",
       "<table border=\"1\" class=\"dataframe\">\n",
       "  <thead>\n",
       "    <tr style=\"text-align: right;\">\n",
       "      <th></th>\n",
       "      <th>PM</th>\n",
       "      <th>ND</th>\n",
       "      <th>CM</th>\n",
       "      <th>SD</th>\n",
       "      <th>AQI</th>\n",
       "    </tr>\n",
       "  </thead>\n",
       "  <tbody>\n",
       "    <tr>\n",
       "      <th>count</th>\n",
       "      <td>24933.000000</td>\n",
       "      <td>25946.000000</td>\n",
       "      <td>27472.000000</td>\n",
       "      <td>25677.000000</td>\n",
       "      <td>24850.000000</td>\n",
       "    </tr>\n",
       "    <tr>\n",
       "      <th>mean</th>\n",
       "      <td>67.450578</td>\n",
       "      <td>28.560659</td>\n",
       "      <td>2.248598</td>\n",
       "      <td>14.531977</td>\n",
       "      <td>166.463581</td>\n",
       "    </tr>\n",
       "    <tr>\n",
       "      <th>std</th>\n",
       "      <td>64.661449</td>\n",
       "      <td>24.474746</td>\n",
       "      <td>6.962884</td>\n",
       "      <td>18.133775</td>\n",
       "      <td>140.696585</td>\n",
       "    </tr>\n",
       "    <tr>\n",
       "      <th>min</th>\n",
       "      <td>0.040000</td>\n",
       "      <td>0.010000</td>\n",
       "      <td>0.000000</td>\n",
       "      <td>0.010000</td>\n",
       "      <td>13.000000</td>\n",
       "    </tr>\n",
       "    <tr>\n",
       "      <th>25%</th>\n",
       "      <td>28.820000</td>\n",
       "      <td>11.750000</td>\n",
       "      <td>0.510000</td>\n",
       "      <td>5.670000</td>\n",
       "      <td>81.000000</td>\n",
       "    </tr>\n",
       "    <tr>\n",
       "      <th>50%</th>\n",
       "      <td>48.570000</td>\n",
       "      <td>21.690000</td>\n",
       "      <td>0.890000</td>\n",
       "      <td>9.160000</td>\n",
       "      <td>118.000000</td>\n",
       "    </tr>\n",
       "    <tr>\n",
       "      <th>75%</th>\n",
       "      <td>80.590000</td>\n",
       "      <td>37.620000</td>\n",
       "      <td>1.450000</td>\n",
       "      <td>15.220000</td>\n",
       "      <td>208.000000</td>\n",
       "    </tr>\n",
       "    <tr>\n",
       "      <th>max</th>\n",
       "      <td>949.990000</td>\n",
       "      <td>362.210000</td>\n",
       "      <td>175.810000</td>\n",
       "      <td>193.860000</td>\n",
       "      <td>2049.000000</td>\n",
       "    </tr>\n",
       "  </tbody>\n",
       "</table>\n",
       "</div>"
      ],
      "text/plain": [
       "                 PM            ND            CM            SD           AQI\n",
       "count  24933.000000  25946.000000  27472.000000  25677.000000  24850.000000\n",
       "mean      67.450578     28.560659      2.248598     14.531977    166.463581\n",
       "std       64.661449     24.474746      6.962884     18.133775    140.696585\n",
       "min        0.040000      0.010000      0.000000      0.010000     13.000000\n",
       "25%       28.820000     11.750000      0.510000      5.670000     81.000000\n",
       "50%       48.570000     21.690000      0.890000      9.160000    118.000000\n",
       "75%       80.590000     37.620000      1.450000     15.220000    208.000000\n",
       "max      949.990000    362.210000    175.810000    193.860000   2049.000000"
      ]
     },
     "execution_count": 18,
     "metadata": {},
     "output_type": "execute_result"
    }
   ],
   "source": [
    "df.describe() # but it gives the information about all the cities alltogether"
   ]
  },
  {
   "cell_type": "code",
   "execution_count": 19,
   "id": "788dea11",
   "metadata": {},
   "outputs": [
    {
     "data": {
      "text/plain": [
       "Index(['City', 'Date', 'PM', 'ND', 'CM', 'SD', 'AQI', 'AQI_Bucket'], dtype='object')"
      ]
     },
     "execution_count": 19,
     "metadata": {},
     "output_type": "execute_result"
    }
   ],
   "source": [
    "df.columns"
   ]
  },
  {
   "cell_type": "code",
   "execution_count": 20,
   "id": "394fa2ac",
   "metadata": {},
   "outputs": [
    {
     "name": "stdout",
     "output_type": "stream",
     "text": [
      "<class 'pandas.core.frame.DataFrame'>\n",
      "RangeIndex: 29531 entries, 0 to 29530\n",
      "Data columns (total 8 columns):\n",
      " #   Column      Non-Null Count  Dtype         \n",
      "---  ------      --------------  -----         \n",
      " 0   City        29531 non-null  object        \n",
      " 1   Date        29531 non-null  datetime64[ns]\n",
      " 2   PM          24933 non-null  float64       \n",
      " 3   ND          25946 non-null  float64       \n",
      " 4   CM          27472 non-null  float64       \n",
      " 5   SD          25677 non-null  float64       \n",
      " 6   AQI         24850 non-null  float64       \n",
      " 7   AQI_Bucket  24850 non-null  object        \n",
      "dtypes: datetime64[ns](1), float64(5), object(2)\n",
      "memory usage: 1.8+ MB\n"
     ]
    }
   ],
   "source": [
    "df[['PM','ND','CM','SD','AQI']] = df[['PM','ND','CM','SD','AQI']].astype('float')\n",
    "df['Date'] = pd.to_datetime(df['Date'])\n",
    "df.info()"
   ]
  },
  {
   "cell_type": "code",
   "execution_count": 21,
   "id": "1c6c332d",
   "metadata": {},
   "outputs": [
    {
     "data": {
      "text/plain": [
       "<AxesSubplot: >"
      ]
     },
     "execution_count": 21,
     "metadata": {},
     "output_type": "execute_result"
    },
    {
     "data": {
      "image/png": "[encoded data removed]",
      "text/plain": [
       "<Figure size 640x480 with 1 Axes>"
      ]
     },
     "metadata": {},
     "output_type": "display_data"
    }
   ],
   "source": [
    "sns.heatmap(df.isnull(),yticklabels=False,cbar=False,cmap='viridis')"
   ]
  },
  {
   "cell_type": "code",
   "execution_count": 22,
   "id": "94f26712",
   "metadata": {},
   "outputs": [],
   "source": [
    "df.iloc[:, 1:7] = df.groupby(\"City\").transform(lambda x: x.fillna(x.mean()))"
   ]
  },
  {
   "cell_type": "code",
   "execution_count": 23,
   "id": "45db8905",
   "metadata": {},
   "outputs": [
    {
     "data": {
      "text/html": [
       "<div>\n",
       "<style scoped>\n",
       "    .dataframe tbody tr th:only-of-type {\n",
       "        vertical-align: middle;\n",
       "    }\n",
       "\n",
       "    .dataframe tbody tr th {\n",
       "        vertical-align: top;\n",
       "    }\n",
       "\n",
       "    .dataframe thead th {\n",
       "        text-align: right;\n",
       "    }\n",
       "</style>\n",
       "<table border=\"1\" class=\"dataframe\">\n",
       "  <thead>\n",
       "    <tr style=\"text-align: right;\">\n",
       "      <th></th>\n",
       "      <th>City</th>\n",
       "      <th>Date</th>\n",
       "      <th>PM</th>\n",
       "      <th>ND</th>\n",
       "      <th>CM</th>\n",
       "      <th>SD</th>\n",
       "      <th>AQI</th>\n",
       "      <th>AQI_Bucket</th>\n",
       "    </tr>\n",
       "  </thead>\n",
       "  <tbody>\n",
       "    <tr>\n",
       "      <th>0</th>\n",
       "      <td>Colombo</td>\n",
       "      <td>2015-01-01</td>\n",
       "      <td>68.570011</td>\n",
       "      <td>18.22</td>\n",
       "      <td>0.92</td>\n",
       "      <td>27.64</td>\n",
       "      <td>169.762999</td>\n",
       "      <td>NaN</td>\n",
       "    </tr>\n",
       "    <tr>\n",
       "      <th>1</th>\n",
       "      <td>Colombo</td>\n",
       "      <td>2015-01-02</td>\n",
       "      <td>68.570011</td>\n",
       "      <td>15.69</td>\n",
       "      <td>0.97</td>\n",
       "      <td>24.55</td>\n",
       "      <td>169.762999</td>\n",
       "      <td>NaN</td>\n",
       "    </tr>\n",
       "    <tr>\n",
       "      <th>2</th>\n",
       "      <td>Colombo</td>\n",
       "      <td>2015-01-03</td>\n",
       "      <td>68.570011</td>\n",
       "      <td>19.30</td>\n",
       "      <td>17.40</td>\n",
       "      <td>29.07</td>\n",
       "      <td>169.762999</td>\n",
       "      <td>NaN</td>\n",
       "    </tr>\n",
       "    <tr>\n",
       "      <th>3</th>\n",
       "      <td>Colombo</td>\n",
       "      <td>2015-01-04</td>\n",
       "      <td>68.570011</td>\n",
       "      <td>18.48</td>\n",
       "      <td>1.70</td>\n",
       "      <td>18.59</td>\n",
       "      <td>169.762999</td>\n",
       "      <td>NaN</td>\n",
       "    </tr>\n",
       "    <tr>\n",
       "      <th>4</th>\n",
       "      <td>Colombo</td>\n",
       "      <td>2015-01-05</td>\n",
       "      <td>68.570011</td>\n",
       "      <td>21.42</td>\n",
       "      <td>22.10</td>\n",
       "      <td>39.33</td>\n",
       "      <td>169.762999</td>\n",
       "      <td>NaN</td>\n",
       "    </tr>\n",
       "    <tr>\n",
       "      <th>...</th>\n",
       "      <td>...</td>\n",
       "      <td>...</td>\n",
       "      <td>...</td>\n",
       "      <td>...</td>\n",
       "      <td>...</td>\n",
       "      <td>...</td>\n",
       "      <td>...</td>\n",
       "      <td>...</td>\n",
       "    </tr>\n",
       "    <tr>\n",
       "      <th>29526</th>\n",
       "      <td>Colombo</td>\n",
       "      <td>2020-06-27</td>\n",
       "      <td>15.020000</td>\n",
       "      <td>25.06</td>\n",
       "      <td>0.47</td>\n",
       "      <td>8.55</td>\n",
       "      <td>41.000000</td>\n",
       "      <td>Good</td>\n",
       "    </tr>\n",
       "    <tr>\n",
       "      <th>29527</th>\n",
       "      <td>Colombo</td>\n",
       "      <td>2020-06-28</td>\n",
       "      <td>24.380000</td>\n",
       "      <td>26.06</td>\n",
       "      <td>0.52</td>\n",
       "      <td>12.72</td>\n",
       "      <td>70.000000</td>\n",
       "      <td>Satisfactory</td>\n",
       "    </tr>\n",
       "    <tr>\n",
       "      <th>29528</th>\n",
       "      <td>Colombo</td>\n",
       "      <td>2020-06-29</td>\n",
       "      <td>22.910000</td>\n",
       "      <td>29.53</td>\n",
       "      <td>0.48</td>\n",
       "      <td>8.42</td>\n",
       "      <td>68.000000</td>\n",
       "      <td>Satisfactory</td>\n",
       "    </tr>\n",
       "    <tr>\n",
       "      <th>29529</th>\n",
       "      <td>Colombo</td>\n",
       "      <td>2020-06-30</td>\n",
       "      <td>16.640000</td>\n",
       "      <td>29.26</td>\n",
       "      <td>0.52</td>\n",
       "      <td>9.84</td>\n",
       "      <td>54.000000</td>\n",
       "      <td>Satisfactory</td>\n",
       "    </tr>\n",
       "    <tr>\n",
       "      <th>29530</th>\n",
       "      <td>Colombo</td>\n",
       "      <td>2020-07-01</td>\n",
       "      <td>15.000000</td>\n",
       "      <td>26.85</td>\n",
       "      <td>0.59</td>\n",
       "      <td>2.10</td>\n",
       "      <td>50.000000</td>\n",
       "      <td>Good</td>\n",
       "    </tr>\n",
       "  </tbody>\n",
       "</table>\n",
       "<p>29531 rows × 8 columns</p>\n",
       "</div>"
      ],
      "text/plain": [
       "          City       Date         PM     ND     CM     SD         AQI  \\\n",
       "0      Colombo 2015-01-01  68.570011  18.22   0.92  27.64  169.762999   \n",
       "1      Colombo 2015-01-02  68.570011  15.69   0.97  24.55  169.762999   \n",
       "2      Colombo 2015-01-03  68.570011  19.30  17.40  29.07  169.762999   \n",
       "3      Colombo 2015-01-04  68.570011  18.48   1.70  18.59  169.762999   \n",
       "4      Colombo 2015-01-05  68.570011  21.42  22.10  39.33  169.762999   \n",
       "...        ...        ...        ...    ...    ...    ...         ...   \n",
       "29526  Colombo 2020-06-27  15.020000  25.06   0.47   8.55   41.000000   \n",
       "29527  Colombo 2020-06-28  24.380000  26.06   0.52  12.72   70.000000   \n",
       "29528  Colombo 2020-06-29  22.910000  29.53   0.48   8.42   68.000000   \n",
       "29529  Colombo 2020-06-30  16.640000  29.26   0.52   9.84   54.000000   \n",
       "29530  Colombo 2020-07-01  15.000000  26.85   0.59   2.10   50.000000   \n",
       "\n",
       "         AQI_Bucket  \n",
       "0               NaN  \n",
       "1               NaN  \n",
       "2               NaN  \n",
       "3               NaN  \n",
       "4               NaN  \n",
       "...             ...  \n",
       "29526          Good  \n",
       "29527  Satisfactory  \n",
       "29528  Satisfactory  \n",
       "29529  Satisfactory  \n",
       "29530          Good  \n",
       "\n",
       "[29531 rows x 8 columns]"
      ]
     },
     "execution_count": 23,
     "metadata": {},
     "output_type": "execute_result"
    }
   ],
   "source": [
    "df"
   ]
  },
  {
   "cell_type": "code",
   "execution_count": 24,
   "id": "8900e696",
   "metadata": {},
   "outputs": [
    {
     "data": {
      "text/plain": [
       "<AxesSubplot: >"
      ]
     },
     "execution_count": 24,
     "metadata": {},
     "output_type": "execute_result"
    },
    {
     "data": {
      "image/png": "[encoded data removed]",
      "text/plain": [
       "<Figure size 640x480 with 1 Axes>"
      ]
     },
     "metadata": {},
     "output_type": "display_data"
    }
   ],
   "source": [
    "sns.heatmap(df.isnull(),yticklabels=False,cbar=False,cmap='viridis')"
   ]
  },
  {
   "cell_type": "markdown",
   "id": "d57672b7",
   "metadata": {},
   "source": [
    "### 3. Calculating Sub-Index\n",
    "\n",
    "\n",
    "-->Calculation seperately using the pollutants\n",
    "\n",
    "-->For PM2.5, SO2, NOx the average value in last 24-hrs is used with the condition of having at least 16 values.\n",
    "\n",
    "-->For CO is the maximum value in last 8-hrs is used.\n",
    "\n",
    "-->Final AQI is the maximum Sub-Index with the condition  and at least three out of the five should be available.\n"
   ]
  },
  {
   "cell_type": "code",
   "execution_count": 25,
   "id": "719c48c4",
   "metadata": {},
   "outputs": [],
   "source": [
    "# PM2.5 Sub-Index calculation\n",
    "def get_PM25_subindex(x):\n",
    "    if x <= 30:\n",
    "        return x * 50 / 30\n",
    "    elif x > 30 and x <= 60:\n",
    "        return 50 + (x - 30) * 50 / 30\n",
    "    elif x > 60 and x <= 90:\n",
    "        return 100 + (x - 60) * 100 / 30\n",
    "    elif x > 90 and x <= 120:\n",
    "        return 200 + (x - 90) * 100 / 30\n",
    "    elif x > 120 and x <= 250:\n",
    "        return 300 + (x - 120) * 100 / 130\n",
    "    elif x > 250:\n",
    "        return 400 + (x - 250) * 100 / 130\n",
    "    else:\n",
    "        return 0\n",
    "\n",
    "df[\"PM_SubIndex\"] = df[\"PM\"].astype(int).apply(lambda x: get_PM25_subindex(x))\n",
    "\n",
    "\n",
    "# SO2 Sub-Index calculation\n",
    "def get_SO2_subindex(x):\n",
    "    if x <= 40:\n",
    "        return x * 50 / 40\n",
    "    elif x > 40 and x <= 80:\n",
    "        return 50 + (x - 40) * 50 / 40\n",
    "    elif x > 80 and x <= 380:\n",
    "        return 100 + (x - 80) * 100 / 300\n",
    "    elif x > 380 and x <= 800:\n",
    "        return 200 + (x - 380) * 100 / 420\n",
    "    elif x > 800 and x <= 1600:\n",
    "        return 300 + (x - 800) * 100 / 800\n",
    "    elif x > 1600:\n",
    "        return 400 + (x - 1600) * 100 / 800\n",
    "    else:\n",
    "        return 0\n",
    "\n",
    "df[\"SD_SubIndex\"] = df[\"SD\"].astype(int).apply(lambda x: get_SO2_subindex(x))\n",
    "\n",
    "\n",
    "# NO2 Sub-Index calculation\n",
    "def get_NO2_subindex(x):\n",
    "    if x <= 40:\n",
    "        return x * 50 / 40\n",
    "    elif x > 40 and x <= 80:\n",
    "        return 50 + (x - 40) * 50 / 40\n",
    "    elif x > 80 and x <= 180:\n",
    "        return 100 + (x - 80) * 100 / 100\n",
    "    elif x > 180 and x <= 280:\n",
    "        return 200 + (x - 180) * 100 / 100\n",
    "    elif x > 280 and x <= 400:\n",
    "        return 300 + (x - 280) * 100 / 120\n",
    "    elif x > 400:\n",
    "        return 400 + (x - 400) * 100 / 120\n",
    "    else:\n",
    "        return 0\n",
    "\n",
    "df[\"ND_SubIndex\"] = df[\"ND\"].astype(int).apply(lambda x: get_NO2_subindex(x))\n",
    "\n",
    "\n",
    "# CO Sub-Index calculation\n",
    "def get_CO_subindex(x):\n",
    "    if x <= 1:\n",
    "        return x * 50 / 1\n",
    "    elif x > 1 and x <= 2:\n",
    "        return 50 + (x - 1) * 50 / 1\n",
    "    elif x > 2 and x <= 10:\n",
    "        return 100 + (x - 2) * 100 / 8\n",
    "    elif x > 10 and x <= 17:\n",
    "        return 200 + (x - 10) * 100 / 7\n",
    "    elif x > 17 and x <= 34:\n",
    "        return 300 + (x - 17) * 100 / 17\n",
    "    elif x > 34:\n",
    "        return 400 + (x - 34) * 100 / 17\n",
    "    else:\n",
    "        return 0\n",
    "df[\"CM_SubIndex\"] = df[\"CM\"].astype(int).apply(lambda x: get_CO_subindex(x))\n"
   ]
  },
  {
   "cell_type": "markdown",
   "id": "7ebedfde",
   "metadata": {},
   "source": [
    "### 4. Filling the Nan values of AQI column by taking maximum values out of sub-Indexes"
   ]
  },
  {
   "cell_type": "code",
   "execution_count": 26,
   "id": "fe1b40e7",
   "metadata": {},
   "outputs": [],
   "source": [
    "df[\"AQI\"] = df[\"AQI\"].fillna(round(df[[\"PM_SubIndex\", \"ND_SubIndex\", \"CM_SubIndex\", \"SD_SubIndex\"]].max(axis = 1)))"
   ]
  },
  {
   "cell_type": "code",
   "execution_count": 27,
   "id": "a874a4e6",
   "metadata": {},
   "outputs": [
    {
     "data": {
      "text/html": [
       "<div>\n",
       "<style scoped>\n",
       "    .dataframe tbody tr th:only-of-type {\n",
       "        vertical-align: middle;\n",
       "    }\n",
       "\n",
       "    .dataframe tbody tr th {\n",
       "        vertical-align: top;\n",
       "    }\n",
       "\n",
       "    .dataframe thead th {\n",
       "        text-align: right;\n",
       "    }\n",
       "</style>\n",
       "<table border=\"1\" class=\"dataframe\">\n",
       "  <thead>\n",
       "    <tr style=\"text-align: right;\">\n",
       "      <th></th>\n",
       "      <th>City</th>\n",
       "      <th>Date</th>\n",
       "      <th>PM</th>\n",
       "      <th>ND</th>\n",
       "      <th>CM</th>\n",
       "      <th>SD</th>\n",
       "      <th>AQI</th>\n",
       "      <th>AQI_Bucket</th>\n",
       "      <th>PM_SubIndex</th>\n",
       "      <th>SD_SubIndex</th>\n",
       "      <th>ND_SubIndex</th>\n",
       "      <th>CM_SubIndex</th>\n",
       "    </tr>\n",
       "  </thead>\n",
       "  <tbody>\n",
       "    <tr>\n",
       "      <th>0</th>\n",
       "      <td>Colombo</td>\n",
       "      <td>2015-01-01</td>\n",
       "      <td>68.570011</td>\n",
       "      <td>18.22</td>\n",
       "      <td>0.92</td>\n",
       "      <td>27.64</td>\n",
       "      <td>169.762999</td>\n",
       "      <td>NaN</td>\n",
       "      <td>126.666667</td>\n",
       "      <td>33.75</td>\n",
       "      <td>22.50</td>\n",
       "      <td>0.000000</td>\n",
       "    </tr>\n",
       "    <tr>\n",
       "      <th>1</th>\n",
       "      <td>Colombo</td>\n",
       "      <td>2015-01-02</td>\n",
       "      <td>68.570011</td>\n",
       "      <td>15.69</td>\n",
       "      <td>0.97</td>\n",
       "      <td>24.55</td>\n",
       "      <td>169.762999</td>\n",
       "      <td>NaN</td>\n",
       "      <td>126.666667</td>\n",
       "      <td>30.00</td>\n",
       "      <td>18.75</td>\n",
       "      <td>0.000000</td>\n",
       "    </tr>\n",
       "    <tr>\n",
       "      <th>2</th>\n",
       "      <td>Colombo</td>\n",
       "      <td>2015-01-03</td>\n",
       "      <td>68.570011</td>\n",
       "      <td>19.30</td>\n",
       "      <td>17.40</td>\n",
       "      <td>29.07</td>\n",
       "      <td>169.762999</td>\n",
       "      <td>NaN</td>\n",
       "      <td>126.666667</td>\n",
       "      <td>36.25</td>\n",
       "      <td>23.75</td>\n",
       "      <td>300.000000</td>\n",
       "    </tr>\n",
       "    <tr>\n",
       "      <th>3</th>\n",
       "      <td>Colombo</td>\n",
       "      <td>2015-01-04</td>\n",
       "      <td>68.570011</td>\n",
       "      <td>18.48</td>\n",
       "      <td>1.70</td>\n",
       "      <td>18.59</td>\n",
       "      <td>169.762999</td>\n",
       "      <td>NaN</td>\n",
       "      <td>126.666667</td>\n",
       "      <td>22.50</td>\n",
       "      <td>22.50</td>\n",
       "      <td>50.000000</td>\n",
       "    </tr>\n",
       "    <tr>\n",
       "      <th>4</th>\n",
       "      <td>Colombo</td>\n",
       "      <td>2015-01-05</td>\n",
       "      <td>68.570011</td>\n",
       "      <td>21.42</td>\n",
       "      <td>22.10</td>\n",
       "      <td>39.33</td>\n",
       "      <td>169.762999</td>\n",
       "      <td>NaN</td>\n",
       "      <td>126.666667</td>\n",
       "      <td>48.75</td>\n",
       "      <td>26.25</td>\n",
       "      <td>329.411765</td>\n",
       "    </tr>\n",
       "    <tr>\n",
       "      <th>...</th>\n",
       "      <td>...</td>\n",
       "      <td>...</td>\n",
       "      <td>...</td>\n",
       "      <td>...</td>\n",
       "      <td>...</td>\n",
       "      <td>...</td>\n",
       "      <td>...</td>\n",
       "      <td>...</td>\n",
       "      <td>...</td>\n",
       "      <td>...</td>\n",
       "      <td>...</td>\n",
       "      <td>...</td>\n",
       "    </tr>\n",
       "    <tr>\n",
       "      <th>29526</th>\n",
       "      <td>Colombo</td>\n",
       "      <td>2020-06-27</td>\n",
       "      <td>15.020000</td>\n",
       "      <td>25.06</td>\n",
       "      <td>0.47</td>\n",
       "      <td>8.55</td>\n",
       "      <td>41.000000</td>\n",
       "      <td>Good</td>\n",
       "      <td>25.000000</td>\n",
       "      <td>10.00</td>\n",
       "      <td>31.25</td>\n",
       "      <td>0.000000</td>\n",
       "    </tr>\n",
       "    <tr>\n",
       "      <th>29527</th>\n",
       "      <td>Colombo</td>\n",
       "      <td>2020-06-28</td>\n",
       "      <td>24.380000</td>\n",
       "      <td>26.06</td>\n",
       "      <td>0.52</td>\n",
       "      <td>12.72</td>\n",
       "      <td>70.000000</td>\n",
       "      <td>Satisfactory</td>\n",
       "      <td>40.000000</td>\n",
       "      <td>15.00</td>\n",
       "      <td>32.50</td>\n",
       "      <td>0.000000</td>\n",
       "    </tr>\n",
       "    <tr>\n",
       "      <th>29528</th>\n",
       "      <td>Colombo</td>\n",
       "      <td>2020-06-29</td>\n",
       "      <td>22.910000</td>\n",
       "      <td>29.53</td>\n",
       "      <td>0.48</td>\n",
       "      <td>8.42</td>\n",
       "      <td>68.000000</td>\n",
       "      <td>Satisfactory</td>\n",
       "      <td>36.666667</td>\n",
       "      <td>10.00</td>\n",
       "      <td>36.25</td>\n",
       "      <td>0.000000</td>\n",
       "    </tr>\n",
       "    <tr>\n",
       "      <th>29529</th>\n",
       "      <td>Colombo</td>\n",
       "      <td>2020-06-30</td>\n",
       "      <td>16.640000</td>\n",
       "      <td>29.26</td>\n",
       "      <td>0.52</td>\n",
       "      <td>9.84</td>\n",
       "      <td>54.000000</td>\n",
       "      <td>Satisfactory</td>\n",
       "      <td>26.666667</td>\n",
       "      <td>11.25</td>\n",
       "      <td>36.25</td>\n",
       "      <td>0.000000</td>\n",
       "    </tr>\n",
       "    <tr>\n",
       "      <th>29530</th>\n",
       "      <td>Colombo</td>\n",
       "      <td>2020-07-01</td>\n",
       "      <td>15.000000</td>\n",
       "      <td>26.85</td>\n",
       "      <td>0.59</td>\n",
       "      <td>2.10</td>\n",
       "      <td>50.000000</td>\n",
       "      <td>Good</td>\n",
       "      <td>25.000000</td>\n",
       "      <td>2.50</td>\n",
       "      <td>32.50</td>\n",
       "      <td>0.000000</td>\n",
       "    </tr>\n",
       "  </tbody>\n",
       "</table>\n",
       "<p>29531 rows × 12 columns</p>\n",
       "</div>"
      ],
      "text/plain": [
       "          City       Date         PM     ND     CM     SD         AQI  \\\n",
       "0      Colombo 2015-01-01  68.570011  18.22   0.92  27.64  169.762999   \n",
       "1      Colombo 2015-01-02  68.570011  15.69   0.97  24.55  169.762999   \n",
       "2      Colombo 2015-01-03  68.570011  19.30  17.40  29.07  169.762999   \n",
       "3      Colombo 2015-01-04  68.570011  18.48   1.70  18.59  169.762999   \n",
       "4      Colombo 2015-01-05  68.570011  21.42  22.10  39.33  169.762999   \n",
       "...        ...        ...        ...    ...    ...    ...         ...   \n",
       "29526  Colombo 2020-06-27  15.020000  25.06   0.47   8.55   41.000000   \n",
       "29527  Colombo 2020-06-28  24.380000  26.06   0.52  12.72   70.000000   \n",
       "29528  Colombo 2020-06-29  22.910000  29.53   0.48   8.42   68.000000   \n",
       "29529  Colombo 2020-06-30  16.640000  29.26   0.52   9.84   54.000000   \n",
       "29530  Colombo 2020-07-01  15.000000  26.85   0.59   2.10   50.000000   \n",
       "\n",
       "         AQI_Bucket  PM_SubIndex  SD_SubIndex  ND_SubIndex  CM_SubIndex  \n",
       "0               NaN   126.666667        33.75        22.50     0.000000  \n",
       "1               NaN   126.666667        30.00        18.75     0.000000  \n",
       "2               NaN   126.666667        36.25        23.75   300.000000  \n",
       "3               NaN   126.666667        22.50        22.50    50.000000  \n",
       "4               NaN   126.666667        48.75        26.25   329.411765  \n",
       "...             ...          ...          ...          ...          ...  \n",
       "29526          Good    25.000000        10.00        31.25     0.000000  \n",
       "29527  Satisfactory    40.000000        15.00        32.50     0.000000  \n",
       "29528  Satisfactory    36.666667        10.00        36.25     0.000000  \n",
       "29529  Satisfactory    26.666667        11.25        36.25     0.000000  \n",
       "29530          Good    25.000000         2.50        32.50     0.000000  \n",
       "\n",
       "[29531 rows x 12 columns]"
      ]
     },
     "execution_count": 27,
     "metadata": {},
     "output_type": "execute_result"
    }
   ],
   "source": [
    "df"
   ]
  },
  {
   "cell_type": "code",
   "execution_count": 28,
   "id": "ebe6f7cb",
   "metadata": {},
   "outputs": [
    {
     "data": {
      "text/plain": [
       "<AxesSubplot: >"
      ]
     },
     "execution_count": 28,
     "metadata": {},
     "output_type": "execute_result"
    },
    {
     "data": {
      "image/png": "[encoded data removed]",
      "text/plain": [
       "<Figure size 640x480 with 1 Axes>"
      ]
     },
     "metadata": {},
     "output_type": "display_data"
    }
   ],
   "source": [
    "sns.heatmap(df.isnull(),yticklabels=False,cbar=False,cmap='viridis')"
   ]
  },
  {
   "cell_type": "markdown",
   "id": "8bc61892",
   "metadata": {},
   "source": [
    "# AQI bucket"
   ]
  },
  {
   "cell_type": "code",
   "execution_count": 29,
   "id": "c73823bd",
   "metadata": {},
   "outputs": [
    {
     "data": {
      "image/jpeg": "[encoded data removed]",
      "text/plain": [
       "<IPython.core.display.Image object>"
      ]
     },
     "execution_count": 29,
     "metadata": {
      "image/jpeg": {
       "height": 800,
       "width": 1000
      }
     },
     "output_type": "execute_result"
    }
   ],
   "source": [
    "from IPython import display \n",
    "display.Image(\"AQI_Bucket.jpg\",width = 1000, height = 800)"
   ]
  },
  {
   "cell_type": "markdown",
   "id": "3febb3f2",
   "metadata": {},
   "source": [
    "### calculating AQI bucket and filling the NAN value present"
   ]
  },
  {
   "cell_type": "code",
   "execution_count": 30,
   "id": "3ecb0f33",
   "metadata": {},
   "outputs": [],
   "source": [
    "## AQI bucketing\n",
    "def get_AQI_bucket(x):\n",
    "    if x <= 50:\n",
    "        return \"Good\"\n",
    "    elif x > 50 and x <= 100:\n",
    "        return \"Satisfactory\"\n",
    "    elif x > 100 and x <= 200:\n",
    "        return \"Moderate\"\n",
    "    elif x > 200 and x <= 300:\n",
    "        return \"Poor\"\n",
    "    elif x > 300 and x <= 400:\n",
    "        return \"Very Poor\"\n",
    "    elif x > 400:\n",
    "        return \"Severe\"\n",
    "    else:\n",
    "        return '0'\n",
    "    \n",
    "df[\"AQI_Bucket\"] = df[\"AQI_Bucket\"].fillna(df[\"AQI\"].apply(lambda x: get_AQI_bucket(x)))\n"
   ]
  },
  {
   "cell_type": "code",
   "execution_count": 31,
   "id": "af38cadd",
   "metadata": {},
   "outputs": [
    {
     "data": {
      "text/html": [
       "<div>\n",
       "<style scoped>\n",
       "    .dataframe tbody tr th:only-of-type {\n",
       "        vertical-align: middle;\n",
       "    }\n",
       "\n",
       "    .dataframe tbody tr th {\n",
       "        vertical-align: top;\n",
       "    }\n",
       "\n",
       "    .dataframe thead th {\n",
       "        text-align: right;\n",
       "    }\n",
       "</style>\n",
       "<table border=\"1\" class=\"dataframe\">\n",
       "  <thead>\n",
       "    <tr style=\"text-align: right;\">\n",
       "      <th></th>\n",
       "      <th>City</th>\n",
       "      <th>Date</th>\n",
       "      <th>PM</th>\n",
       "      <th>ND</th>\n",
       "      <th>CM</th>\n",
       "      <th>SD</th>\n",
       "      <th>AQI</th>\n",
       "      <th>AQI_Bucket</th>\n",
       "      <th>PM_SubIndex</th>\n",
       "      <th>SD_SubIndex</th>\n",
       "      <th>ND_SubIndex</th>\n",
       "      <th>CM_SubIndex</th>\n",
       "    </tr>\n",
       "  </thead>\n",
       "  <tbody>\n",
       "    <tr>\n",
       "      <th>0</th>\n",
       "      <td>Colombo</td>\n",
       "      <td>2015-01-01</td>\n",
       "      <td>68.570011</td>\n",
       "      <td>18.22</td>\n",
       "      <td>0.92</td>\n",
       "      <td>27.64</td>\n",
       "      <td>169.762999</td>\n",
       "      <td>Moderate</td>\n",
       "      <td>126.666667</td>\n",
       "      <td>33.75</td>\n",
       "      <td>22.50</td>\n",
       "      <td>0.000000</td>\n",
       "    </tr>\n",
       "    <tr>\n",
       "      <th>1</th>\n",
       "      <td>Colombo</td>\n",
       "      <td>2015-01-02</td>\n",
       "      <td>68.570011</td>\n",
       "      <td>15.69</td>\n",
       "      <td>0.97</td>\n",
       "      <td>24.55</td>\n",
       "      <td>169.762999</td>\n",
       "      <td>Moderate</td>\n",
       "      <td>126.666667</td>\n",
       "      <td>30.00</td>\n",
       "      <td>18.75</td>\n",
       "      <td>0.000000</td>\n",
       "    </tr>\n",
       "    <tr>\n",
       "      <th>2</th>\n",
       "      <td>Colombo</td>\n",
       "      <td>2015-01-03</td>\n",
       "      <td>68.570011</td>\n",
       "      <td>19.30</td>\n",
       "      <td>17.40</td>\n",
       "      <td>29.07</td>\n",
       "      <td>169.762999</td>\n",
       "      <td>Moderate</td>\n",
       "      <td>126.666667</td>\n",
       "      <td>36.25</td>\n",
       "      <td>23.75</td>\n",
       "      <td>300.000000</td>\n",
       "    </tr>\n",
       "    <tr>\n",
       "      <th>3</th>\n",
       "      <td>Colombo</td>\n",
       "      <td>2015-01-04</td>\n",
       "      <td>68.570011</td>\n",
       "      <td>18.48</td>\n",
       "      <td>1.70</td>\n",
       "      <td>18.59</td>\n",
       "      <td>169.762999</td>\n",
       "      <td>Moderate</td>\n",
       "      <td>126.666667</td>\n",
       "      <td>22.50</td>\n",
       "      <td>22.50</td>\n",
       "      <td>50.000000</td>\n",
       "    </tr>\n",
       "    <tr>\n",
       "      <th>4</th>\n",
       "      <td>Colombo</td>\n",
       "      <td>2015-01-05</td>\n",
       "      <td>68.570011</td>\n",
       "      <td>21.42</td>\n",
       "      <td>22.10</td>\n",
       "      <td>39.33</td>\n",
       "      <td>169.762999</td>\n",
       "      <td>Moderate</td>\n",
       "      <td>126.666667</td>\n",
       "      <td>48.75</td>\n",
       "      <td>26.25</td>\n",
       "      <td>329.411765</td>\n",
       "    </tr>\n",
       "    <tr>\n",
       "      <th>...</th>\n",
       "      <td>...</td>\n",
       "      <td>...</td>\n",
       "      <td>...</td>\n",
       "      <td>...</td>\n",
       "      <td>...</td>\n",
       "      <td>...</td>\n",
       "      <td>...</td>\n",
       "      <td>...</td>\n",
       "      <td>...</td>\n",
       "      <td>...</td>\n",
       "      <td>...</td>\n",
       "      <td>...</td>\n",
       "    </tr>\n",
       "    <tr>\n",
       "      <th>29526</th>\n",
       "      <td>Colombo</td>\n",
       "      <td>2020-06-27</td>\n",
       "      <td>15.020000</td>\n",
       "      <td>25.06</td>\n",
       "      <td>0.47</td>\n",
       "      <td>8.55</td>\n",
       "      <td>41.000000</td>\n",
       "      <td>Good</td>\n",
       "      <td>25.000000</td>\n",
       "      <td>10.00</td>\n",
       "      <td>31.25</td>\n",
       "      <td>0.000000</td>\n",
       "    </tr>\n",
       "    <tr>\n",
       "      <th>29527</th>\n",
       "      <td>Colombo</td>\n",
       "      <td>2020-06-28</td>\n",
       "      <td>24.380000</td>\n",
       "      <td>26.06</td>\n",
       "      <td>0.52</td>\n",
       "      <td>12.72</td>\n",
       "      <td>70.000000</td>\n",
       "      <td>Satisfactory</td>\n",
       "      <td>40.000000</td>\n",
       "      <td>15.00</td>\n",
       "      <td>32.50</td>\n",
       "      <td>0.000000</td>\n",
       "    </tr>\n",
       "    <tr>\n",
       "      <th>29528</th>\n",
       "      <td>Colombo</td>\n",
       "      <td>2020-06-29</td>\n",
       "      <td>22.910000</td>\n",
       "      <td>29.53</td>\n",
       "      <td>0.48</td>\n",
       "      <td>8.42</td>\n",
       "      <td>68.000000</td>\n",
       "      <td>Satisfactory</td>\n",
       "      <td>36.666667</td>\n",
       "      <td>10.00</td>\n",
       "      <td>36.25</td>\n",
       "      <td>0.000000</td>\n",
       "    </tr>\n",
       "    <tr>\n",
       "      <th>29529</th>\n",
       "      <td>Colombo</td>\n",
       "      <td>2020-06-30</td>\n",
       "      <td>16.640000</td>\n",
       "      <td>29.26</td>\n",
       "      <td>0.52</td>\n",
       "      <td>9.84</td>\n",
       "      <td>54.000000</td>\n",
       "      <td>Satisfactory</td>\n",
       "      <td>26.666667</td>\n",
       "      <td>11.25</td>\n",
       "      <td>36.25</td>\n",
       "      <td>0.000000</td>\n",
       "    </tr>\n",
       "    <tr>\n",
       "      <th>29530</th>\n",
       "      <td>Colombo</td>\n",
       "      <td>2020-07-01</td>\n",
       "      <td>15.000000</td>\n",
       "      <td>26.85</td>\n",
       "      <td>0.59</td>\n",
       "      <td>2.10</td>\n",
       "      <td>50.000000</td>\n",
       "      <td>Good</td>\n",
       "      <td>25.000000</td>\n",
       "      <td>2.50</td>\n",
       "      <td>32.50</td>\n",
       "      <td>0.000000</td>\n",
       "    </tr>\n",
       "  </tbody>\n",
       "</table>\n",
       "<p>29531 rows × 12 columns</p>\n",
       "</div>"
      ],
      "text/plain": [
       "          City       Date         PM     ND     CM     SD         AQI  \\\n",
       "0      Colombo 2015-01-01  68.570011  18.22   0.92  27.64  169.762999   \n",
       "1      Colombo 2015-01-02  68.570011  15.69   0.97  24.55  169.762999   \n",
       "2      Colombo 2015-01-03  68.570011  19.30  17.40  29.07  169.762999   \n",
       "3      Colombo 2015-01-04  68.570011  18.48   1.70  18.59  169.762999   \n",
       "4      Colombo 2015-01-05  68.570011  21.42  22.10  39.33  169.762999   \n",
       "...        ...        ...        ...    ...    ...    ...         ...   \n",
       "29526  Colombo 2020-06-27  15.020000  25.06   0.47   8.55   41.000000   \n",
       "29527  Colombo 2020-06-28  24.380000  26.06   0.52  12.72   70.000000   \n",
       "29528  Colombo 2020-06-29  22.910000  29.53   0.48   8.42   68.000000   \n",
       "29529  Colombo 2020-06-30  16.640000  29.26   0.52   9.84   54.000000   \n",
       "29530  Colombo 2020-07-01  15.000000  26.85   0.59   2.10   50.000000   \n",
       "\n",
       "         AQI_Bucket  PM_SubIndex  SD_SubIndex  ND_SubIndex  CM_SubIndex  \n",
       "0          Moderate   126.666667        33.75        22.50     0.000000  \n",
       "1          Moderate   126.666667        30.00        18.75     0.000000  \n",
       "2          Moderate   126.666667        36.25        23.75   300.000000  \n",
       "3          Moderate   126.666667        22.50        22.50    50.000000  \n",
       "4          Moderate   126.666667        48.75        26.25   329.411765  \n",
       "...             ...          ...          ...          ...          ...  \n",
       "29526          Good    25.000000        10.00        31.25     0.000000  \n",
       "29527  Satisfactory    40.000000        15.00        32.50     0.000000  \n",
       "29528  Satisfactory    36.666667        10.00        36.25     0.000000  \n",
       "29529  Satisfactory    26.666667        11.25        36.25     0.000000  \n",
       "29530          Good    25.000000         2.50        32.50     0.000000  \n",
       "\n",
       "[29531 rows x 12 columns]"
      ]
     },
     "execution_count": 31,
     "metadata": {},
     "output_type": "execute_result"
    }
   ],
   "source": [
    "df"
   ]
  },
  {
   "cell_type": "code",
   "execution_count": 32,
   "id": "e7159c1a",
   "metadata": {},
   "outputs": [
    {
     "data": {
      "text/plain": [
       "<AxesSubplot: >"
      ]
     },
     "execution_count": 32,
     "metadata": {},
     "output_type": "execute_result"
    },
    {
     "data": {
      "image/png": "[encoded data removed]",
      "text/plain": [
       "<Figure size 640x480 with 1 Axes>"
      ]
     },
     "metadata": {},
     "output_type": "display_data"
    }
   ],
   "source": [
    "sns.heatmap(df.isnull(),yticklabels=False,cbar=False,cmap='viridis')"
   ]
  },
  {
   "cell_type": "code",
   "execution_count": 33,
   "id": "6f35fbb5",
   "metadata": {},
   "outputs": [
    {
     "data": {
      "text/plain": [
       "Index(['City', 'Date', 'PM', 'ND', 'CM', 'SD', 'AQI', 'AQI_Bucket',\n",
       "       'PM_SubIndex', 'SD_SubIndex', 'ND_SubIndex', 'CM_SubIndex'],\n",
       "      dtype='object')"
      ]
     },
     "execution_count": 33,
     "metadata": {},
     "output_type": "execute_result"
    }
   ],
   "source": [
    "df.columns"
   ]
  },
  {
   "cell_type": "code",
   "execution_count": 34,
   "id": "bcbd607f",
   "metadata": {},
   "outputs": [
    {
     "data": {
      "text/plain": [
       "Index(['City', 'Date', 'PM', 'ND', 'CM', 'SD', 'AQI', 'AQI_Bucket',\n",
       "       'PM_SubIndex', 'SD_SubIndex', 'ND_SubIndex', 'CM_SubIndex'],\n",
       "      dtype='object')"
      ]
     },
     "execution_count": 34,
     "metadata": {},
     "output_type": "execute_result"
    }
   ],
   "source": [
    "df_city_day = df.copy()\n",
    "df_city_day.columns"
   ]
  },
  {
   "cell_type": "code",
   "execution_count": 35,
   "id": "b5aaca52",
   "metadata": {},
   "outputs": [
    {
     "data": {
      "image/png": "[encoded data removed]",
      "text/plain": [
       "<Figure size 1200x1000 with 2 Axes>"
      ]
     },
     "metadata": {},
     "output_type": "display_data"
    }
   ],
   "source": [
    "plt.figure(figsize=(12,10))\n",
    "sns.heatmap(df.corr(),cmap='coolwarm',annot=True);"
   ]
  },
  {
   "cell_type": "markdown",
   "id": "4d6b518c",
   "metadata": {},
   "source": [
    "## Prediction"
   ]
  },
  {
   "cell_type": "markdown",
   "id": "a1500e0e",
   "metadata": {},
   "source": [
    "### Prepairing Data for Model Preparation"
   ]
  },
  {
   "cell_type": "code",
   "execution_count": 40,
   "id": "d6ac39f4",
   "metadata": {},
   "outputs": [],
   "source": [
    "from sklearn.model_selection import train_test_split\n",
    "\n",
    "X = df[['PM','ND','CM','SD']]\n",
    "y = df['AQI']\n",
    "\n",
    "X_train, X_test, y_train, y_test = train_test_split(X, y, test_size = 0.20, random_state = 42)"
   ]
  },
  {
   "cell_type": "code",
   "execution_count": 41,
   "id": "9a7adb30",
   "metadata": {},
   "outputs": [
    {
     "name": "stdout",
     "output_type": "stream",
     "text": [
      "Length of X_train 23624\n",
      "Length of X_test 5907\n",
      "Length of y_train 23624\n",
      "Length of y_test 5907\n"
     ]
    }
   ],
   "source": [
    "print('Length of X_train', len(X_train))\n",
    "print('Length of X_test', len(X_test))\n",
    "print('Length of y_train', len(y_train))\n",
    "print('Length of y_test', len(y_test))"
   ]
  },
  {
   "cell_type": "markdown",
   "id": "372865b4",
   "metadata": {},
   "source": [
    "## Applying Machine Learning Algos :"
   ]
  },
  {
   "cell_type": "markdown",
   "id": "842b8a4e",
   "metadata": {},
   "source": [
    "### Random Forest"
   ]
  },
  {
   "cell_type": "code",
   "execution_count": 42,
   "id": "81d45492",
   "metadata": {},
   "outputs": [],
   "source": [
    "def model_acc(model):\n",
    "    model.fit(X_train, y_train)\n",
    "    acc = model.score(X_test, y_test)\n",
    "    print(str(model)+ ' --> ' +str(acc))"
   ]
  },
  {
   "cell_type": "code",
   "execution_count": 43,
   "id": "e988167b",
   "metadata": {},
   "outputs": [
    {
     "name": "stdout",
     "output_type": "stream",
     "text": [
      "RandomForestRegressor() --> 0.8668026640788244\n"
     ]
    }
   ],
   "source": [
    "from sklearn.ensemble import RandomForestRegressor\n",
    "rf = RandomForestRegressor()\n",
    "model_acc(rf)"
   ]
  },
  {
   "cell_type": "code",
   "execution_count": 44,
   "id": "cf0fe95b",
   "metadata": {},
   "outputs": [
    {
     "data": {
      "text/plain": [
       "97.78"
      ]
     },
     "execution_count": 44,
     "metadata": {},
     "output_type": "execute_result"
    }
   ],
   "source": [
    "round(rf.score(X_train, y_train)*100,2)"
   ]
  },
  {
   "cell_type": "code",
   "execution_count": 45,
   "id": "faf49d1a",
   "metadata": {},
   "outputs": [
    {
     "data": {
      "text/plain": [
       "86.68"
      ]
     },
     "execution_count": 45,
     "metadata": {},
     "output_type": "execute_result"
    }
   ],
   "source": [
    "round(rf.score(X_test, y_test)*100,2)"
   ]
  },
  {
   "cell_type": "code",
   "execution_count": 46,
   "id": "0e155337",
   "metadata": {},
   "outputs": [
    {
     "data": {
      "text/plain": [
       "95.77"
      ]
     },
     "execution_count": 46,
     "metadata": {},
     "output_type": "execute_result"
    }
   ],
   "source": [
    "round(rf.score(X, y)*100,2)"
   ]
  },
  {
   "cell_type": "code",
   "execution_count": 47,
   "id": "29fbc8e9",
   "metadata": {},
   "outputs": [
    {
     "data": {
      "text/plain": [
       "84.49"
      ]
     },
     "execution_count": 47,
     "metadata": {},
     "output_type": "execute_result"
    }
   ],
   "source": [
    "#Cross Validation\n",
    "\n",
    "from sklearn.model_selection import cross_val_score\n",
    "score=cross_val_score(rf,X_train,y_train,cv=5)\n",
    "round(score.mean()*100,2)"
   ]
  },
  {
   "cell_type": "code",
   "execution_count": 48,
   "id": "ce3006a9",
   "metadata": {},
   "outputs": [
    {
     "name": "stdout",
     "output_type": "stream",
     "text": [
      "Random Forest Regression\n",
      "MAE: 24.993843211313145\n",
      "MSE: 2009.3463727373776\n",
      "RMSE: 44.82573337645886\n"
     ]
    }
   ],
   "source": [
    "# Model Evaluation\n",
    "from sklearn import metrics\n",
    "prediction=rf.predict(X_test)\n",
    "\n",
    "\n",
    "print('Random Forest Regression')\n",
    "print('MAE:', metrics.mean_absolute_error(y_test, prediction))\n",
    "print('MSE:', metrics.mean_squared_error(y_test, prediction))\n",
    "print('RMSE:', np.sqrt(metrics.mean_squared_error(y_test, prediction)))\n"
   ]
  },
  {
   "cell_type": "code",
   "execution_count": 49,
   "id": "b75cd35d",
   "metadata": {},
   "outputs": [
    {
     "data": {
      "image/png": "[encoded data removed]",
      "text/plain": [
       "<Figure size 640x480 with 1 Axes>"
      ]
     },
     "metadata": {},
     "output_type": "display_data"
    }
   ],
   "source": [
    "#rf\n",
    "plt.scatter(y_test, prediction)\n",
    "plt.xlabel('Measured')\n",
    "plt.ylabel('Predicted')\n",
    "plt.title('RF Regressor Predicted vs Actual')\n",
    "plt.show()\n",
    "\n"
   ]
  },
  {
   "cell_type": "code",
   "execution_count": 50,
   "id": "c95ed50c",
   "metadata": {},
   "outputs": [
    {
     "data": {
      "text/plain": [
       "array([169.58005254, 169.58005254, 141.89762999, ..., 146.99577993,\n",
       "        79.89403621, 124.74525998])"
      ]
     },
     "execution_count": 50,
     "metadata": {},
     "output_type": "execute_result"
    }
   ],
   "source": [
    "prediction"
   ]
  },
  {
   "cell_type": "code",
   "execution_count": null,
   "id": "37da1440",
   "metadata": {},
   "outputs": [],
   "source": [
    "#from sklearn.model_selection import GridSearchCV\n",
    "\n",
    "#parameters = {'n_estimators':[10, 50, 100],\n",
    "              'criterion':['squared_error','absolute_error','poisson']}\n",
    "\n",
    "#grid_obj = GridSearchCV(estimator=rf, param_grid=parameters)\n",
    "\n",
    "#grid_fit = grid_obj.fit(X_train, y_train)\n",
    "\n",
    "#best_model = grid_fit.best_estimator_\n",
    "\n",
    "#best_model.score(X_test, y_test)"
   ]
  },
  {
   "cell_type": "code",
   "execution_count": 51,
   "id": "9acc98e0",
   "metadata": {},
   "outputs": [
    {
     "data": {
      "text/plain": [
       "Index(['PM', 'ND', 'CM', 'SD'], dtype='object')"
      ]
     },
     "execution_count": 51,
     "metadata": {},
     "output_type": "execute_result"
    }
   ],
   "source": [
    "X_test.columns"
   ]
  },
  {
   "cell_type": "markdown",
   "id": "d5eb97a7",
   "metadata": {},
   "source": [
    "### Save model "
   ]
  },
  {
   "cell_type": "code",
   "execution_count": 53,
   "id": "97a34f42",
   "metadata": {},
   "outputs": [],
   "source": [
    "import pickle\n",
    "with open('predictor.pickle', 'wb') as file:\n",
    "    pickle.dump(rf, file)"
   ]
  },
  {
   "cell_type": "code",
   "execution_count": 55,
   "id": "7ba5128f",
   "metadata": {},
   "outputs": [
    {
     "data": {
      "text/plain": [
       "array([129.08051996])"
      ]
     },
     "execution_count": 55,
     "metadata": {},
     "output_type": "execute_result"
    }
   ],
   "source": [
    "pred_value =rf.predict([[50.25,15.13,1.5,12]])\n",
    "pred_value"
   ]
  },
  {
   "cell_type": "code",
   "execution_count": null,
   "id": "ba9140e2",
   "metadata": {},
   "outputs": [],
   "source": []
  }
 ],
 "metadata": {
  "kernelspec": {
   "display_name": "Python 3 (ipykernel)",
   "language": "python",
   "name": "python3"
  },
  "language_info": {
   "codemirror_mode": {
    "name": "ipython",
    "version": 3
   },
   "file_extension": ".py",
   "mimetype": "text/x-python",
   "name": "python",
   "nbconvert_exporter": "python",
   "pygments_lexer": "ipython3",
   "version": "3.10.7"
  }
 },
 "nbformat": 4,
 "nbformat_minor": 5
}
